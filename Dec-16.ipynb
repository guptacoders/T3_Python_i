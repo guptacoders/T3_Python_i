{
 "cells": [
  {
   "cell_type": "code",
   "execution_count": 22,
   "metadata": {},
   "outputs": [
    {
     "name": "stdout",
     "output_type": "stream",
     "text": [
      "ABC\n",
      "ishan\n",
      "--------------------------------------------------\n",
      "Homo\n",
      "19\n"
     ]
    }
   ],
   "source": [
    "class Human:\n",
    "    species=\"Homo\"\n",
    "    name=\"ishan\"\n",
    "    age=\"19\"\n",
    "    def __init__(self,name,age,gender):\n",
    "        self.name=name\n",
    "        self.age=age\n",
    "        self.gender=gender\n",
    "x=Human('ABC',18,'Male')\n",
    "print(x.name)\n",
    "print(Human.name)\n",
    "print(\"-\"*50)\n",
    "\n",
    "y=Human('XYZ',19,'Female')\n",
    "print(y.species)\n",
    "print(y.age)"
   ]
  },
  {
   "cell_type": "code",
   "execution_count": 26,
   "metadata": {},
   "outputs": [
    {
     "name": "stdout",
     "output_type": "stream",
     "text": [
      "name= Roy\n",
      "age= 18\n",
      "gender= Male\n",
      "Homo\n",
      "Homo\n"
     ]
    }
   ],
   "source": [
    "class Human:\n",
    "    species=\"Homo\"\n",
    "    name=\"ishan\"\n",
    "    age=\"19\"\n",
    "    def __init__(self,name,age,gender):\n",
    "        self.name=name\n",
    "        self.age=age\n",
    "        self.gender=gender\n",
    "    \n",
    "    def display(self):\n",
    "        print('name=',self.name)\n",
    "        print('age=',self.age)\n",
    "        print('gender=',self.gender)\n",
    "        print(Human.species)\n",
    "#       print(self.species) Not-prefferable\n",
    "x=Human(\"Roy\",18,\"Male\")\n",
    "x.display()"
   ]
  },
  {
   "cell_type": "code",
   "execution_count": 28,
   "metadata": {},
   "outputs": [
    {
     "name": "stdout",
     "output_type": "stream",
     "text": [
      "Hellooooo\n"
     ]
    }
   ],
   "source": [
    "class test:\n",
    "    def __init__(self,a=\"Hello World\"):\n",
    "        self.a=a\n",
    "    def display(self):\n",
    "        print(self.a)\n",
    "obj=test(\"Hellooooo\")\n",
    "obj.display()"
   ]
  },
  {
   "cell_type": "code",
   "execution_count": 31,
   "metadata": {},
   "outputs": [
    {
     "name": "stdout",
     "output_type": "stream",
     "text": [
      "name= Roy\n",
      "age= 18\n",
      "gender= Male\n",
      "I can speak  Roy\n",
      "I love to Eat sweets\n"
     ]
    }
   ],
   "source": [
    "class Human:\n",
    "    species=\"Homo\"\n",
    "    name=\"ishan\"\n",
    "    age=\"19\"\n",
    "    def __init__(self,name,age,gender):\n",
    "        self.name=name\n",
    "        self.age=age\n",
    "        self.gender=gender\n",
    "    \n",
    "    def display(self):\n",
    "        print('name=',self.name)\n",
    "        print('age=',self.age)\n",
    "        print('gender=',self.gender)\n",
    "    \n",
    "    def speak(self):\n",
    "        print(\"I can speak \",self.name)\n",
    "        \n",
    "    def eat(self,fav_dish):\n",
    "        print(\"I love to Eat\",fav_dish)\n",
    "        \n",
    "x=Human(\"Roy\",18,\"Male\")\n",
    "x.display()\n",
    "x.speak()\n",
    "x.eat('sweets')"
   ]
  },
  {
   "cell_type": "code",
   "execution_count": 35,
   "metadata": {},
   "outputs": [
    {
     "name": "stdout",
     "output_type": "stream",
     "text": [
      "book name=  The Witchers\n",
      "book name=  The Harry Porter\n"
     ]
    }
   ],
   "source": [
    "class Library:\n",
    "    def __init__(self,id,name):\n",
    "        self.bookid=id\n",
    "        self.bookname=name\n",
    "    def setbookname(self,newbookname):\n",
    "        self.bookname=newbookname\n",
    "    def getbookname(self):\n",
    "        print(\"book name= \",self.bookname)\n",
    "a=Library(10,\"The Witchers\")\n",
    "a.getbookname()\n",
    "\n",
    "a.setbookname(\"The Harry Porter\")\n",
    "a.getbookname()\n"
   ]
  },
  {
   "cell_type": "code",
   "execution_count": 8,
   "metadata": {},
   "outputs": [
    {
     "name": "stdout",
     "output_type": "stream",
     "text": [
      "Enter Student Id: 1\n",
      "Enter Student name: wss\n",
      "Enter Student Marks: 11\n",
      "Enter Student Marks: 11\n",
      "Enter Student Marks: 11\n",
      "Student Name:  wss\n",
      "Student Id:  1\n",
      "Student Total:  33\n"
     ]
    }
   ],
   "source": [
    "# WAP using class to store marks of student.\n",
    "# Use List to store marks of 3 subjects also return Total marks of 3 subjects\n",
    "class Human:\n",
    "    \n",
    "    def __init__(self,id,name):\n",
    "        self.id=id\n",
    "        self.name=name\n",
    "        self.marks=[]\n",
    "        \n",
    "    \n",
    "    def entermarks(self):\n",
    "        for i in range(3):\n",
    "            m=int(input(\"Enter Student Marks: \"))\n",
    "            self.marks.append(m)\n",
    "    def total(self):\n",
    "        return sum(self.marks)\n",
    "    \n",
    "    def display(self):\n",
    "        print(\"Student Name: \",self.name)\n",
    "        print(\"Student Id: \",self.id)\n",
    "        print(\"Student Total: \",self.total())\n",
    "        \n",
    "a=int(input(\"Enter Student Id: \"))\n",
    "b=input(\"Enter Student name: \")\n",
    "\n",
    "std1=Human(a,b)\n",
    "std1.entermarks()\n",
    "std1.display()        "
   ]
  },
  {
   "cell_type": "code",
   "execution_count": 7,
   "metadata": {},
   "outputs": [
    {
     "name": "stdout",
     "output_type": "stream",
     "text": [
      "6\n"
     ]
    }
   ],
   "source": [
    "class A:\n",
    "     def __init__(self):\n",
    "         self.count=5\n",
    "#          self.count=count+1\n",
    "         self.count=self.count+1\n",
    "a=A()\n",
    "print(a.count)"
   ]
  },
  {
   "cell_type": "code",
   "execution_count": 5,
   "metadata": {},
   "outputs": [
    {
     "name": "stdout",
     "output_type": "stream",
     "text": [
      "Enter Your Account Number: 5837653785678\n",
      "Enter Your Name: hdfgsdjh\n",
      "Enter Initial Amount: 2000\n",
      "Enter Amount you want to deposit: 2500\n",
      "Enter Amount you want to withdraw: 1000\n",
      "Account No: 5837653785678\n",
      "Name: hdfgsdjh\n",
      "Balance: 3325.0\n"
     ]
    }
   ],
   "source": [
    "#  WAP for Bank management System\n",
    "# 1) Create a class called bank account which has attribute account number,name,balance\n",
    "# 2) Create a deposit method which manages the deposit actions \n",
    "# 3) Create a Withdrawal method which manages withdrawal actions\n",
    "# 4) Create a Bank Fees method to apply Bank Fees With percentage of 5% of the balance\n",
    "# 5) Create display method to display account details \n",
    "class Bank:\n",
    "    def __init__(self, acc_no, name, balance):\n",
    "        self.acc_no = acc_no \n",
    "        self.name = name \n",
    "        self.balance = balance \n",
    "    \n",
    "    def deposit(self, newbalance):\n",
    "        self.balance = self.balance + newbalance\n",
    "    \n",
    "    def withdrawal(self, amount):\n",
    "        if amount <= self.balance:\n",
    "            self.balance = self.balance - amount\n",
    "        else:\n",
    "            print(\"Insufficient balance!\")\n",
    "    \n",
    "    def apply_bank_fees(self):\n",
    "        self.balance = (95/100)*self.balance\n",
    "    \n",
    "    def display(self):\n",
    "        print('Account No:', self.acc_no)\n",
    "        print('Name:', self.name)\n",
    "        print('Balance:', self.balance)\n",
    "\n",
    "\n",
    "a = int(input(\"Enter Your Account Number: \"))\n",
    "b = input(\"Enter Your Name: \")\n",
    "c = float(input(\"Enter Initial Amount: \"))\n",
    "\n",
    "# Create a Bank account object with the provided details\n",
    "x = Bank(a, b, c)\n",
    "\n",
    "# Deposit operation\n",
    "d = float(input(\"Enter Amount you want to deposit: \"))\n",
    "x.deposit(d)  # Use x.deposit to call the deposit method\n",
    "\n",
    "# Withdrawal operation\n",
    "w = float(input(\"Enter Amount you want to withdraw: \"))\n",
    "x.withdrawal(w)  # Use x.withdrawal to call the withdrawal method\n",
    "\n",
    "# Apply Bank Fees\n",
    "x.apply_bank_fees()  # Apply bank fees\n",
    "\n",
    "# Display account details after deposit, withdrawal, and fee application\n",
    "x.display()"
   ]
  },
  {
   "cell_type": "code",
   "execution_count": null,
   "metadata": {},
   "outputs": [],
   "source": []
  }
 ],
 "metadata": {
  "kernelspec": {
   "display_name": "Python 3",
   "language": "python",
   "name": "python3"
  },
  "language_info": {
   "codemirror_mode": {
    "name": "ipython",
    "version": 3
   },
   "file_extension": ".py",
   "mimetype": "text/x-python",
   "name": "python",
   "nbconvert_exporter": "python",
   "pygments_lexer": "ipython3",
   "version": "3.8.5"
  }
 },
 "nbformat": 4,
 "nbformat_minor": 4
}
